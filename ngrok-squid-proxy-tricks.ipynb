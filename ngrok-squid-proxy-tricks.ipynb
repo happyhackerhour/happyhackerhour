{
  "nbformat": 4,
  "nbformat_minor": 0,
  "metadata": {
    "colab": {
      "name": "ngrok-tricks - SSH into Colab and view tensorboard using ngrok",
      "provenance": [],
      "collapsed_sections": [],
      "include_colab_link": true
    },
    "kernelspec": {
      "name": "python3",
      "display_name": "Python 3"
    },
    "accelerator": "TPU"
  },
  "cells": [
    {
      "cell_type": "markdown",
      "metadata": {
        "id": "view-in-github",
        "colab_type": "text"
      },
      "source": [
        "<a href=\"https://colab.research.google.com/github/happyhackerhour/happyhackerhour/blob/main/ngrok-squid-proxy-tricks.ipynb\" target=\"_parent\"><img src=\"https://colab.research.google.com/assets/colab-badge.svg\" alt=\"Open In Colab\"/></a>"
      ]
    },
    {
      "cell_type": "markdown",
      "metadata": {
        "id": "tPGkLrbHf4m8"
      },
      "source": [
        "#Mount your google drive & symlink it to `/drive`"
      ]
    },
    {
      "cell_type": "code",
      "metadata": {
        "id": "SAqwoVyIwoj0",
        "colab": {
          "base_uri": "https://localhost:8080/"
        },
        "outputId": "7586f4b2-eb7a-4f0e-80d7-3221a1d733d9"
      },
      "source": [
        "from google.colab import drive\n",
        "drive.mount('/content/drive', force_remount=True)\n",
        "\n",
        "!mkdir -p /drive\n",
        "#umount /drive\n",
        "!mount --bind /content/drive/My\\ Drive /drive\n",
        "!mkdir -p /drive/ngrok-ssh\n",
        "!mkdir -p ~/.ssh"
      ],
      "execution_count": 1,
      "outputs": [
        {
          "output_type": "stream",
          "text": [
            "Mounted at /content/drive\n"
          ],
          "name": "stdout"
        }
      ]
    },
    {
      "cell_type": "markdown",
      "metadata": {
        "id": "5BfjbdkmgWPz"
      },
      "source": [
        "#(optional) If a TPU is attached, print its address\n",
        "\n",
        "This notebook works for all runtime types: CPU, GPU, and TPU.\n",
        "\n",
        "If connected to TPU runtime, this cell prints info about the attached TPU. (This is just for convenience / informational purposes.)"
      ]
    },
    {
      "cell_type": "code",
      "metadata": {
        "id": "2jKgMEagipmt",
        "colab": {
          "base_uri": "https://localhost:8080/",
          "height": 247
        },
        "outputId": "8bd8749b-13f2-4a1a-c280-1f15e904a568"
      },
      "source": [
        "import os\n",
        "import pprint\n",
        "import tensorflow as tf\n",
        "\n",
        "if 'COLAB_TPU_ADDR' not in os.environ:\n",
        "  print('Not connected to a TPU runtime')\n",
        "else:\n",
        "  tpu_address = 'grpc://' + os.environ['COLAB_TPU_ADDR']\n",
        "  print ('TPU address is', tpu_address)\n",
        "  with tf.Session(tpu_address) as session:\n",
        "    devices = session.list_devices()\n",
        "  print('TPU devices:')\n",
        "  pprint.pprint(devices)"
      ],
      "execution_count": null,
      "outputs": [
        {
          "output_type": "stream",
          "text": [
            "TPU address is grpc://10.44.120.90:8470\n",
            "TPU devices:\n",
            "[_DeviceAttributes(/job:tpu_worker/replica:0/task:0/device:CPU:0, CPU, -1, 1173016086274077236),\n",
            " _DeviceAttributes(/job:tpu_worker/replica:0/task:0/device:XLA_CPU:0, XLA_CPU, 17179869184, 2991867235668810802),\n",
            " _DeviceAttributes(/job:tpu_worker/replica:0/task:0/device:TPU:0, TPU, 17179869184, 6184859761337604570),\n",
            " _DeviceAttributes(/job:tpu_worker/replica:0/task:0/device:TPU:1, TPU, 17179869184, 2958198024988600890),\n",
            " _DeviceAttributes(/job:tpu_worker/replica:0/task:0/device:TPU:2, TPU, 17179869184, 7018531718559331614),\n",
            " _DeviceAttributes(/job:tpu_worker/replica:0/task:0/device:TPU:3, TPU, 17179869184, 4577201967883118425),\n",
            " _DeviceAttributes(/job:tpu_worker/replica:0/task:0/device:TPU:4, TPU, 17179869184, 1807161912338548618),\n",
            " _DeviceAttributes(/job:tpu_worker/replica:0/task:0/device:TPU:5, TPU, 17179869184, 6466936639391228903),\n",
            " _DeviceAttributes(/job:tpu_worker/replica:0/task:0/device:TPU:6, TPU, 17179869184, 5609808055865915066),\n",
            " _DeviceAttributes(/job:tpu_worker/replica:0/task:0/device:TPU:7, TPU, 17179869184, 15329956649730022893),\n",
            " _DeviceAttributes(/job:tpu_worker/replica:0/task:0/device:TPU_SYSTEM:0, TPU_SYSTEM, 8589934592, 8355276426596913199)]\n"
          ],
          "name": "stdout"
        }
      ]
    },
    {
      "cell_type": "markdown",
      "metadata": {
        "id": "q6DkHRhXnAZE"
      },
      "source": [
        "# Install `sshd`, `tmux`, and `vim`\n",
        "\n",
        "You can add any other prerequisites you want, e.g. `emacs`. That way, when you ssh into the colab instance, all of these will already be installed.\n",
        "\n",
        "(You'd otherwise have to run `apt-get install emacs` every time you ssh into a fresh colab instance. It's easier just to install all your favorite programs here, ahead of time.)"
      ]
    },
    {
      "cell_type": "code",
      "metadata": {
        "id": "J_WEZOLUyTs2",
        "colab": {
          "base_uri": "https://localhost:8080/"
        },
        "cellView": "code",
        "outputId": "ecdedd65-38c8-48c0-8799-0a118cccae86"
      },
      "source": [
        "!apt-get install ssh tmux vim"
      ],
      "execution_count": 2,
      "outputs": [
        {
          "output_type": "stream",
          "text": [
            "Reading package lists... Done\n",
            "Building dependency tree       \n",
            "Reading state information... Done\n",
            "tmux is already the newest version (2.6-3ubuntu0.2).\n",
            "The following additional packages will be installed:\n",
            "  libgpm2 ncurses-term openssh-server openssh-sftp-server python3-certifi\n",
            "  python3-chardet python3-idna python3-pkg-resources python3-requests\n",
            "  python3-six python3-urllib3 ssh-import-id vim-common vim-runtime xxd\n",
            "Suggested packages:\n",
            "  gpm molly-guard monkeysphere rssh ssh-askpass ufw python3-setuptools\n",
            "  python3-cryptography python3-openssl python3-socks ctags vim-doc vim-scripts\n",
            "The following NEW packages will be installed:\n",
            "  libgpm2 ncurses-term openssh-server openssh-sftp-server python3-certifi\n",
            "  python3-chardet python3-idna python3-pkg-resources python3-requests\n",
            "  python3-six python3-urllib3 ssh ssh-import-id vim vim-common vim-runtime xxd\n",
            "0 upgraded, 17 newly installed, 0 to remove and 39 not upgraded.\n",
            "Need to get 7,876 kB of archives.\n",
            "After this operation, 40.3 MB of additional disk space will be used.\n",
            "Get:1 http://archive.ubuntu.com/ubuntu bionic-updates/main amd64 openssh-sftp-server amd64 1:7.6p1-4ubuntu0.3 [45.6 kB]\n",
            "Get:2 http://archive.ubuntu.com/ubuntu bionic-updates/main amd64 openssh-server amd64 1:7.6p1-4ubuntu0.3 [333 kB]\n",
            "Get:3 http://archive.ubuntu.com/ubuntu bionic-updates/main amd64 ssh all 1:7.6p1-4ubuntu0.3 [5,204 B]\n",
            "Get:4 http://archive.ubuntu.com/ubuntu bionic-updates/main amd64 xxd amd64 2:8.0.1453-1ubuntu1.4 [49.3 kB]\n",
            "Get:5 http://archive.ubuntu.com/ubuntu bionic-updates/main amd64 vim-common all 2:8.0.1453-1ubuntu1.4 [70.4 kB]\n",
            "Get:6 http://archive.ubuntu.com/ubuntu bionic/main amd64 libgpm2 amd64 1.20.7-5 [15.1 kB]\n",
            "Get:7 http://archive.ubuntu.com/ubuntu bionic-updates/main amd64 ncurses-term all 6.1-1ubuntu1.18.04 [248 kB]\n",
            "Get:8 http://archive.ubuntu.com/ubuntu bionic/main amd64 python3-certifi all 2018.1.18-2 [144 kB]\n",
            "Get:9 http://archive.ubuntu.com/ubuntu bionic/main amd64 python3-pkg-resources all 39.0.1-2 [98.8 kB]\n",
            "Get:10 http://archive.ubuntu.com/ubuntu bionic/main amd64 python3-chardet all 3.0.4-1 [80.3 kB]\n",
            "Get:11 http://archive.ubuntu.com/ubuntu bionic/main amd64 python3-idna all 2.6-1 [32.5 kB]\n",
            "Get:12 http://archive.ubuntu.com/ubuntu bionic/main amd64 python3-six all 1.11.0-2 [11.4 kB]\n",
            "Get:13 http://archive.ubuntu.com/ubuntu bionic-updates/main amd64 python3-urllib3 all 1.22-1ubuntu0.18.04.2 [86.2 kB]\n",
            "Get:14 http://archive.ubuntu.com/ubuntu bionic-updates/main amd64 python3-requests all 2.18.4-2ubuntu0.1 [58.3 kB]\n",
            "Get:15 http://archive.ubuntu.com/ubuntu bionic-updates/main amd64 vim-runtime all 2:8.0.1453-1ubuntu1.4 [5,435 kB]\n",
            "Get:16 http://archive.ubuntu.com/ubuntu bionic-updates/main amd64 vim amd64 2:8.0.1453-1ubuntu1.4 [1,152 kB]\n",
            "Get:17 http://archive.ubuntu.com/ubuntu bionic-updates/main amd64 ssh-import-id all 5.7-0ubuntu1.1 [10.9 kB]\n",
            "Fetched 7,876 kB in 2s (5,093 kB/s)\n",
            "Preconfiguring packages ...\n",
            "Selecting previously unselected package openssh-sftp-server.\n",
            "(Reading database ... 160815 files and directories currently installed.)\n",
            "Preparing to unpack .../00-openssh-sftp-server_1%3a7.6p1-4ubuntu0.3_amd64.deb ...\n",
            "Unpacking openssh-sftp-server (1:7.6p1-4ubuntu0.3) ...\n",
            "Selecting previously unselected package openssh-server.\n",
            "Preparing to unpack .../01-openssh-server_1%3a7.6p1-4ubuntu0.3_amd64.deb ...\n",
            "Unpacking openssh-server (1:7.6p1-4ubuntu0.3) ...\n",
            "Selecting previously unselected package ssh.\n",
            "Preparing to unpack .../02-ssh_1%3a7.6p1-4ubuntu0.3_all.deb ...\n",
            "Unpacking ssh (1:7.6p1-4ubuntu0.3) ...\n",
            "Selecting previously unselected package xxd.\n",
            "Preparing to unpack .../03-xxd_2%3a8.0.1453-1ubuntu1.4_amd64.deb ...\n",
            "Unpacking xxd (2:8.0.1453-1ubuntu1.4) ...\n",
            "Selecting previously unselected package vim-common.\n",
            "Preparing to unpack .../04-vim-common_2%3a8.0.1453-1ubuntu1.4_all.deb ...\n",
            "Unpacking vim-common (2:8.0.1453-1ubuntu1.4) ...\n",
            "Selecting previously unselected package libgpm2:amd64.\n",
            "Preparing to unpack .../05-libgpm2_1.20.7-5_amd64.deb ...\n",
            "Unpacking libgpm2:amd64 (1.20.7-5) ...\n",
            "Selecting previously unselected package ncurses-term.\n",
            "Preparing to unpack .../06-ncurses-term_6.1-1ubuntu1.18.04_all.deb ...\n",
            "Unpacking ncurses-term (6.1-1ubuntu1.18.04) ...\n",
            "Selecting previously unselected package python3-certifi.\n",
            "Preparing to unpack .../07-python3-certifi_2018.1.18-2_all.deb ...\n",
            "Unpacking python3-certifi (2018.1.18-2) ...\n",
            "Selecting previously unselected package python3-pkg-resources.\n",
            "Preparing to unpack .../08-python3-pkg-resources_39.0.1-2_all.deb ...\n",
            "Unpacking python3-pkg-resources (39.0.1-2) ...\n",
            "Selecting previously unselected package python3-chardet.\n",
            "Preparing to unpack .../09-python3-chardet_3.0.4-1_all.deb ...\n",
            "Unpacking python3-chardet (3.0.4-1) ...\n",
            "Selecting previously unselected package python3-idna.\n",
            "Preparing to unpack .../10-python3-idna_2.6-1_all.deb ...\n",
            "Unpacking python3-idna (2.6-1) ...\n",
            "Selecting previously unselected package python3-six.\n",
            "Preparing to unpack .../11-python3-six_1.11.0-2_all.deb ...\n",
            "Unpacking python3-six (1.11.0-2) ...\n",
            "Selecting previously unselected package python3-urllib3.\n",
            "Preparing to unpack .../12-python3-urllib3_1.22-1ubuntu0.18.04.2_all.deb ...\n",
            "Unpacking python3-urllib3 (1.22-1ubuntu0.18.04.2) ...\n",
            "Selecting previously unselected package python3-requests.\n",
            "Preparing to unpack .../13-python3-requests_2.18.4-2ubuntu0.1_all.deb ...\n",
            "Unpacking python3-requests (2.18.4-2ubuntu0.1) ...\n",
            "Selecting previously unselected package vim-runtime.\n",
            "Preparing to unpack .../14-vim-runtime_2%3a8.0.1453-1ubuntu1.4_all.deb ...\n",
            "Adding 'diversion of /usr/share/vim/vim80/doc/help.txt to /usr/share/vim/vim80/doc/help.txt.vim-tiny by vim-runtime'\n",
            "Adding 'diversion of /usr/share/vim/vim80/doc/tags to /usr/share/vim/vim80/doc/tags.vim-tiny by vim-runtime'\n",
            "Unpacking vim-runtime (2:8.0.1453-1ubuntu1.4) ...\n",
            "Selecting previously unselected package vim.\n",
            "Preparing to unpack .../15-vim_2%3a8.0.1453-1ubuntu1.4_amd64.deb ...\n",
            "Unpacking vim (2:8.0.1453-1ubuntu1.4) ...\n",
            "Selecting previously unselected package ssh-import-id.\n",
            "Preparing to unpack .../16-ssh-import-id_5.7-0ubuntu1.1_all.deb ...\n",
            "Unpacking ssh-import-id (5.7-0ubuntu1.1) ...\n",
            "Setting up ncurses-term (6.1-1ubuntu1.18.04) ...\n",
            "Setting up xxd (2:8.0.1453-1ubuntu1.4) ...\n",
            "Setting up libgpm2:amd64 (1.20.7-5) ...\n",
            "Setting up python3-idna (2.6-1) ...\n",
            "Setting up python3-six (1.11.0-2) ...\n",
            "Setting up python3-certifi (2018.1.18-2) ...\n",
            "Setting up python3-pkg-resources (39.0.1-2) ...\n",
            "Setting up openssh-sftp-server (1:7.6p1-4ubuntu0.3) ...\n",
            "Setting up python3-chardet (3.0.4-1) ...\n",
            "Setting up vim-common (2:8.0.1453-1ubuntu1.4) ...\n",
            "Setting up vim-runtime (2:8.0.1453-1ubuntu1.4) ...\n",
            "Setting up python3-urllib3 (1.22-1ubuntu0.18.04.2) ...\n",
            "Setting up vim (2:8.0.1453-1ubuntu1.4) ...\n",
            "update-alternatives: using /usr/bin/vim.basic to provide /usr/bin/vim (vim) in auto mode\n",
            "update-alternatives: using /usr/bin/vim.basic to provide /usr/bin/vimdiff (vimdiff) in auto mode\n",
            "update-alternatives: using /usr/bin/vim.basic to provide /usr/bin/rvim (rvim) in auto mode\n",
            "update-alternatives: using /usr/bin/vim.basic to provide /usr/bin/rview (rview) in auto mode\n",
            "update-alternatives: using /usr/bin/vim.basic to provide /usr/bin/vi (vi) in auto mode\n",
            "update-alternatives: using /usr/bin/vim.basic to provide /usr/bin/view (view) in auto mode\n",
            "update-alternatives: using /usr/bin/vim.basic to provide /usr/bin/ex (ex) in auto mode\n",
            "update-alternatives: using /usr/bin/vim.basic to provide /usr/bin/editor (editor) in auto mode\n",
            "Setting up openssh-server (1:7.6p1-4ubuntu0.3) ...\n",
            "\n",
            "Creating config file /etc/ssh/sshd_config with new version\n",
            "Creating SSH2 RSA key; this may take some time ...\n",
            "2048 SHA256:FOh2DKhYbCWxMausXVCcBVDp1+f249oZCyzy+8qV3KY root@d7bab2559168 (RSA)\n",
            "Creating SSH2 ECDSA key; this may take some time ...\n",
            "256 SHA256:ykjxYbVRBHyRdKXp87Mum2KnbQNNLxPYIF4dajnCgqc root@d7bab2559168 (ECDSA)\n",
            "Creating SSH2 ED25519 key; this may take some time ...\n",
            "256 SHA256:/oyAkvsj2hd1/oJJnWK31/HCVnLbWxh3jLwTs3BvxFI root@d7bab2559168 (ED25519)\n",
            "Created symlink /etc/systemd/system/sshd.service → /lib/systemd/system/ssh.service.\n",
            "Created symlink /etc/systemd/system/multi-user.target.wants/ssh.service → /lib/systemd/system/ssh.service.\n",
            "invoke-rc.d: could not determine current runlevel\n",
            "invoke-rc.d: policy-rc.d denied execution of start.\n",
            "Setting up python3-requests (2.18.4-2ubuntu0.1) ...\n",
            "Setting up ssh-import-id (5.7-0ubuntu1.1) ...\n",
            "Setting up ssh (1:7.6p1-4ubuntu0.3) ...\n",
            "Processing triggers for systemd (237-3ubuntu10.48) ...\n",
            "Processing triggers for man-db (2.8.3-2ubuntu0.1) ...\n",
            "Processing triggers for hicolor-icon-theme (0.17-2) ...\n",
            "Processing triggers for mime-support (3.60ubuntu1) ...\n",
            "Processing triggers for libc-bin (2.27-3ubuntu1.2) ...\n",
            "/sbin/ldconfig.real: /usr/local/lib/python3.7/dist-packages/ideep4py/lib/libmkldnn.so.0 is not a symbolic link\n",
            "\n"
          ],
          "name": "stdout"
        }
      ]
    },
    {
      "cell_type": "markdown",
      "metadata": {
        "id": "aqhQAOrJnvkq"
      },
      "source": [
        "# Create an sshd configuration file\n",
        "\n",
        "- Normally, you shouldn't need to modify this next cell; the configuration is designed to work with colab.\n",
        "\n",
        "Simply run this cell:"
      ]
    },
    {
      "cell_type": "code",
      "metadata": {
        "id": "0v5HMu_nfROT",
        "colab": {
          "base_uri": "https://localhost:8080/"
        },
        "outputId": "607ecef1-ec42-46e6-b8f0-6b487df3bbd4"
      },
      "source": [
        "#@title\n",
        "%%writefile /drive/ngrok-ssh/sshd_config\n",
        "#\t$OpenBSD: sshd_config,v 1.101 2017/03/14 07:19:07 djm Exp $\n",
        "\n",
        "# This is the sshd server system-wide configuration file.  See\n",
        "# sshd_config(5) for more information.\n",
        "\n",
        "# This sshd was compiled with PATH=/usr/bin:/bin:/usr/sbin:/sbin\n",
        "\n",
        "# The strategy used for options in the default sshd_config shipped with\n",
        "# OpenSSH is to specify options with their default value where\n",
        "# possible, but leave them commented.  Uncommented options override the\n",
        "# default value.\n",
        "\n",
        "#Port 22\n",
        "#AddressFamily any\n",
        "#ListenAddress 0.0.0.0\n",
        "#ListenAddress ::\n",
        "\n",
        "#HostKey /etc/ssh/ssh_host_rsa_key\n",
        "#HostKey /etc/ssh/ssh_host_ecdsa_key\n",
        "#HostKey /etc/ssh/ssh_host_ed25519_key\n",
        "\n",
        "# Ciphers and keying\n",
        "#RekeyLimit default none\n",
        "\n",
        "# Logging\n",
        "#SyslogFacility AUTH\n",
        "#LogLevel INFO\n",
        "\n",
        "# Authentication:\n",
        "\n",
        "#LoginGraceTime 2m\n",
        "#PermitRootLogin prohibit-password\n",
        "#StrictModes yes\n",
        "#MaxAuthTries 6\n",
        "#MaxSessions 10\n",
        "\n",
        "#PubkeyAuthentication yes\n",
        "\n",
        "# Expect .ssh/authorized_keys2 to be disregarded by default in future.\n",
        "#AuthorizedKeysFile\t.ssh/authorized_keys .ssh/authorized_keys2\n",
        "\n",
        "#AuthorizedPrincipalsFile none\n",
        "\n",
        "#AuthorizedKeysCommand none\n",
        "#AuthorizedKeysCommandUser nobody\n",
        "\n",
        "# For this to work you will also need host keys in /etc/ssh/ssh_known_hosts\n",
        "#HostbasedAuthentication no\n",
        "# Change to yes if you don't trust ~/.ssh/known_hosts for\n",
        "# HostbasedAuthentication\n",
        "#IgnoreUserKnownHosts no\n",
        "# Don't read the user's ~/.rhosts and ~/.shosts files\n",
        "#IgnoreRhosts yes\n",
        "\n",
        "# To disable tunneled clear text passwords, change to no here!\n",
        "#PasswordAuthentication yes\n",
        "#PermitEmptyPasswords no\n",
        "\n",
        "# Change to yes to enable challenge-response passwords (beware issues with\n",
        "# some PAM modules and threads)\n",
        "ChallengeResponseAuthentication no\n",
        "\n",
        "# Kerberos options\n",
        "#KerberosAuthentication no\n",
        "#KerberosOrLocalPasswd yes\n",
        "#KerberosTicketCleanup yes\n",
        "#KerberosGetAFSToken no\n",
        "\n",
        "# GSSAPI options\n",
        "#GSSAPIAuthentication no\n",
        "#GSSAPICleanupCredentials yes\n",
        "#GSSAPIStrictAcceptorCheck yes\n",
        "#GSSAPIKeyExchange no\n",
        "\n",
        "# Set this to 'yes' to enable PAM authentication, account processing,\n",
        "# and session processing. If this is enabled, PAM authentication will\n",
        "# be allowed through the ChallengeResponseAuthentication and\n",
        "# PasswordAuthentication.  Depending on your PAM configuration,\n",
        "# PAM authentication via ChallengeResponseAuthentication may bypass\n",
        "# the setting of \"PermitRootLogin without-password\".\n",
        "# If you just want the PAM account and session checks to run without\n",
        "# PAM authentication, then enable this but set PasswordAuthentication\n",
        "# and ChallengeResponseAuthentication to 'no'.\n",
        "UsePAM yes\n",
        "\n",
        "#AllowAgentForwarding yes\n",
        "AllowTcpForwarding yes\n",
        "#GatewayPorts no\n",
        "X11Forwarding yes\n",
        "#X11DisplayOffset 10\n",
        "#X11UseLocalhost yes\n",
        "#PermitTTY yes\n",
        "PrintMotd no\n",
        "#PrintLastLog yes\n",
        "#TCPKeepAlive yes\n",
        "#UseLogin no\n",
        "#PermitUserEnvironment no\n",
        "#Compression delayed\n",
        "#ClientAliveInterval 0\n",
        "#ClientAliveCountMax 3\n",
        "#UseDNS no\n",
        "#PidFile /var/run/sshd.pid\n",
        "#MaxStartups 10:30:100\n",
        "#PermitTunnel no\n",
        "#ChrootDirectory none\n",
        "#VersionAddendum none\n",
        "\n",
        "# no default banner path\n",
        "#Banner none\n",
        "\n",
        "# Allow client to pass locale environment variables\n",
        "AcceptEnv LANG LC_*\n",
        "\n",
        "# override default of no subsystems\n",
        "Subsystem\tsftp\t/usr/lib/openssh/sftp-server\n",
        "\n",
        "# Example of overriding settings on a per-user basis\n",
        "#Match User anoncvs\n",
        "#\tX11Forwarding no\n",
        "#\tAllowTcpForwarding no\n",
        "#\tPermitTTY no\n",
        "#\tForceCommand cvs server"
      ],
      "execution_count": 4,
      "outputs": [
        {
          "output_type": "stream",
          "text": [
            "Overwriting /drive/ngrok-ssh/sshd_config\n"
          ],
          "name": "stdout"
        }
      ]
    },
    {
      "cell_type": "markdown",
      "metadata": {
        "id": "YbPbsr2lhd6_"
      },
      "source": [
        "# Paste the contents of your local `~/.ssh/id_rsa.pub` file into this next cell\n",
        "\n",
        "- If you don't have an `~/.ssh/id_rsa.pub` file, use `ssh-keygen` to make one.\n",
        "\n",
        "- Remember to actually run the cell after you paste your key into it!\n",
        "\n"
      ]
    },
    {
      "cell_type": "code",
      "metadata": {
        "id": "wmyQ60pehfYu",
        "colab": {
          "base_uri": "https://localhost:8080/"
        },
        "outputId": "65bd6cdb-6cdf-4577-837c-f64483de6499"
      },
      "source": [
        "%%writefile ~/.ssh/authorized_keys\n",
        "ssh-rsa AAAAB3NzaC1yc2EAAAADAQABAAABgQCYjSdCAj4AQa5Q/YSIn15sPP+l6HMqLJD3HBhbus1XXP9t48F0UZLdf5iwvrxgzHCpuEkOveyQcr2Uo8+XaDDsTj7ouE0GDsEAVxD0NauBMBa7QYfL3a5XsBsSVoEOhtkgiWN+FkkGJejt6ugmhgYEbtqEDYOVgP/SZOYSaXxb0tGgWCLXYMbK9xazIP1ZLMEiFj4fTkbZOMTx6H+SHre8fzT3ITqP27bnViMxG0AroZPLJvOHDq/oHrl6de2szzu2VitS1oulmBJIFlWdiWTkd1dk4vBDqJNKEfKdcm+A1lJIUpOkqcNnSMuLD1mjmFtgy96GfShhjkqV64ImOjXV0OimXAHoyiXaa3IF9pgOiXuIjDIDSpyfJLmxad1uhp5IIH7khkCwWpB+XEaQy9bz0GjkWDrAO26GNAtnyZezyknHLJmVtId3nGcabNm3IxLYPkRSBNRkPG21HF7bThkMMi76EoEfiMpTbwj9TKatLbt+9WCjIJkeDV+1bahwpV0= chronos@localhost"
      ],
      "execution_count": 5,
      "outputs": [
        {
          "output_type": "stream",
          "text": [
            "Writing /root/.ssh/authorized_keys\n"
          ],
          "name": "stdout"
        }
      ]
    },
    {
      "cell_type": "markdown",
      "metadata": {
        "id": "Uphyo1i2ldXF"
      },
      "source": [
        "# Restart sshd"
      ]
    },
    {
      "cell_type": "code",
      "metadata": {
        "id": "CGNbcsZS2EpR",
        "colab": {
          "base_uri": "https://localhost:8080/"
        },
        "outputId": "0121ba8f-d721-41c5-ff28-b2b8b7f2dfcd"
      },
      "source": [
        "!cp /drive/ngrok-ssh/sshd_config /etc/ssh/sshd_config\n",
        "!service ssh restart\n",
        "!mkdir -p ~/.ssh"
      ],
      "execution_count": 6,
      "outputs": [
        {
          "output_type": "stream",
          "text": [
            " * Restarting OpenBSD Secure Shell server sshd\n",
            "   ...done.\n"
          ],
          "name": "stdout"
        }
      ]
    },
    {
      "cell_type": "markdown",
      "metadata": {
        "id": "jBqoQ96tf-GR"
      },
      "source": [
        "#Install ngrok"
      ]
    },
    {
      "cell_type": "code",
      "metadata": {
        "id": "1B_aC562JbJU",
        "colab": {
          "base_uri": "https://localhost:8080/"
        },
        "outputId": "c6f4dca8-12d2-4737-d1d7-dc2e1acb5723"
      },
      "source": [
        "!mkdir -p /drive/ngrok-ssh\n",
        "%cd /drive/ngrok-ssh\n",
        "!wget https://bin.equinox.io/c/4VmDzA7iaHb/ngrok-stable-linux-amd64.zip -O ngrok-stable-linux-amd64.zip\n",
        "!unzip -u ngrok-stable-linux-amd64.zip\n",
        "!cp /drive/ngrok-ssh/ngrok /ngrok\n",
        "!chmod +x /ngrok"
      ],
      "execution_count": 7,
      "outputs": [
        {
          "output_type": "stream",
          "text": [
            "/drive/ngrok-ssh\n",
            "--2021-07-12 03:44:14--  https://bin.equinox.io/c/4VmDzA7iaHb/ngrok-stable-linux-amd64.zip\n",
            "Resolving bin.equinox.io (bin.equinox.io)... 54.84.56.8, 52.45.133.242, 54.159.229.235, ...\n",
            "Connecting to bin.equinox.io (bin.equinox.io)|54.84.56.8|:443... connected.\n",
            "HTTP request sent, awaiting response... 200 OK\n",
            "Length: 13832437 (13M) [application/octet-stream]\n",
            "Saving to: ‘ngrok-stable-linux-amd64.zip’\n",
            "\n",
            "ngrok-stable-linux- 100%[===================>]  13.19M  32.4MB/s    in 0.4s    \n",
            "\n",
            "2021-07-12 03:44:15 (32.4 MB/s) - ‘ngrok-stable-linux-amd64.zip’ saved [13832437/13832437]\n",
            "\n",
            "Archive:  ngrok-stable-linux-amd64.zip\n",
            "  inflating: ngrok                   \n"
          ],
          "name": "stdout"
        }
      ]
    },
    {
      "cell_type": "markdown",
      "metadata": {
        "id": "UvBwXHZ5jQ1w"
      },
      "source": [
        "# Sign-in with ngrok\n",
        "\n",
        "- Sign up for a free ngrok account: https://ngrok.com\n",
        "\n",
        "- Copy your authtoken from https://dashboard.ngrok.com/auth and paste it into the following cell\n",
        "\n",
        "- Run the cell"
      ]
    },
    {
      "cell_type": "code",
      "metadata": {
        "id": "4k-1v9HPhBBG",
        "colab": {
          "base_uri": "https://localhost:8080/"
        },
        "outputId": "f53a0401-fe53-4340-da4d-8c67d8aedce5"
      },
      "source": [
        "!/ngrok authtoken 1lKdLflwF27NWuwptI1ld2KZ7J4_3bFGEDT7YLTaCq1gPAjnL"
      ],
      "execution_count": 8,
      "outputs": [
        {
          "output_type": "stream",
          "text": [
            "Authtoken saved to configuration file: /root/.ngrok2/ngrok.yml\n"
          ],
          "name": "stdout"
        }
      ]
    },
    {
      "cell_type": "markdown",
      "metadata": {
        "id": "cjn_XRvbjtXm"
      },
      "source": [
        "# Create various ngrok tunnel configurations\n",
        "\n",
        "Run each of these cells, one by one:"
      ]
    },
    {
      "cell_type": "code",
      "metadata": {
        "id": "RyDVTHD2PnRI",
        "colab": {
          "base_uri": "https://localhost:8080/"
        },
        "outputId": "bdfe55dc-ace5-43b7-ea14-998a571ee965"
      },
      "source": [
        "%%writefile /drive/ngrok-ssh/ssh.yml\n",
        "tunnels:\n",
        "  ssh:\n",
        "    proto: tcp\n",
        "    addr: 22"
      ],
      "execution_count": 11,
      "outputs": [
        {
          "output_type": "stream",
          "text": [
            "Overwriting /drive/ngrok-ssh/ssh.yml\n"
          ],
          "name": "stdout"
        }
      ]
    },
    {
      "cell_type": "code",
      "metadata": {
        "id": "OewiP50wPzpl",
        "colab": {
          "base_uri": "https://localhost:8080/"
        },
        "outputId": "802319d1-4f9e-460d-c681-d7bd4b82a651"
      },
      "source": [
        "%%writefile /drive/ngrok-ssh/squid.yml\n",
        "tunnels:\n",
        "  squid:\n",
        "    proto: tcp\n",
        "    addr: 3128\n",
        "    #inspect: false\n",
        "    #bind_tls: true"
      ],
      "execution_count": 12,
      "outputs": [
        {
          "output_type": "stream",
          "text": [
            "Overwriting /drive/ngrok-ssh/squid.yml\n"
          ],
          "name": "stdout"
        }
      ]
    },
    {
      "cell_type": "code",
      "metadata": {
        "id": "mcTC95zkRAA7",
        "colab": {
          "base_uri": "https://localhost:8080/"
        },
        "outputId": "85acf3c3-5c75-4338-c259-d997cf5e1794"
      },
      "source": [
        "%%writefile /drive/ngrok-ssh/http8080.yml\n",
        "tunnels:\n",
        "  http8080:\n",
        "    proto: http\n",
        "    addr: 8080\n",
        "    inspect: false\n",
        "    bind_tls: true"
      ],
      "execution_count": 13,
      "outputs": [
        {
          "output_type": "stream",
          "text": [
            "Writing /drive/ngrok-ssh/http8080.yml\n"
          ],
          "name": "stdout"
        }
      ]
    },
    {
      "cell_type": "code",
      "metadata": {
        "id": "jUBa9tBMTCQK",
        "colab": {
          "base_uri": "https://localhost:8080/"
        },
        "outputId": "efd75f62-e8c6-4933-e5d8-0b4a2da0d937"
      },
      "source": [
        "%%writefile /drive/ngrok-ssh/tcp8080.yml\n",
        "tunnels:\n",
        "  tcp8080:\n",
        "    proto: tcp\n",
        "    addr: 8080"
      ],
      "execution_count": 14,
      "outputs": [
        {
          "output_type": "stream",
          "text": [
            "Writing /drive/ngrok-ssh/tcp8080.yml\n"
          ],
          "name": "stdout"
        }
      ]
    },
    {
      "cell_type": "code",
      "metadata": {
        "id": "Ui8IvOpCQGAD",
        "colab": {
          "base_uri": "https://localhost:8080/"
        },
        "outputId": "cccaa640-68e5-4885-dbb9-c08d5ae3d5c1"
      },
      "source": [
        "import os\n",
        "if 'COLAB_TPU_ADDR' in os.environ:\n",
        "  with open('/drive/ngrok-ssh/tpu.yml', 'w') as f:\n",
        "    f.write(\"\"\"\n",
        "tunnels:\n",
        "  tpu:\n",
        "    proto: tcp\n",
        "    addr: {}\n",
        "\"\"\".format(os.environ['COLAB_TPU_ADDR']).strip())\n",
        "  print('Wrote /drive/ngrok-ssh/tpu.yml')"
      ],
      "execution_count": 15,
      "outputs": [
        {
          "output_type": "stream",
          "text": [
            "Wrote /drive/ngrok-ssh/tpu.yml\n"
          ],
          "name": "stdout"
        }
      ]
    },
    {
      "cell_type": "code",
      "metadata": {
        "id": "nT0-i3VoKjco",
        "colab": {
          "base_uri": "https://localhost:8080/"
        },
        "outputId": "093a61d7-580b-4fdd-831d-217433d5037d"
      },
      "source": [
        "%%writefile /drive/ngrok-ssh/run_ngrok.sh\n",
        "#!/bin/sh\n",
        "set -x\n",
        "/ngrok start --config ~/.ngrok2/ngrok.yml --config /drive/ngrok-ssh/ssh.yml --log=stdout \"$@\""
      ],
      "execution_count": 38,
      "outputs": [
        {
          "output_type": "stream",
          "text": [
            "Overwriting /drive/ngrok-ssh/run_ngrok.sh\n"
          ],
          "name": "stdout"
        }
      ]
    },
    {
      "cell_type": "code",
      "metadata": {
        "id": "8KTP7RrI2u3T"
      },
      "source": [
        "!sudo killall ngrok"
      ],
      "execution_count": 40,
      "outputs": []
    },
    {
      "cell_type": "markdown",
      "metadata": {
        "id": "oB6qmwwManfJ"
      },
      "source": [
        "\n",
        "#Install Squid, Start it and ngrok"
      ]
    },
    {
      "cell_type": "code",
      "metadata": {
        "id": "Xr4-BRInUcEB"
      },
      "source": [
        "get_ipython().system_raw('bash /drive/ngrok-ssh/run_ngrok.sh ssh &')"
      ],
      "execution_count": 61,
      "outputs": []
    },
    {
      "cell_type": "code",
      "metadata": {
        "id": "kcj4Q_K9SF4v",
        "colab": {
          "base_uri": "https://localhost:8080/"
        },
        "outputId": "a42ea930-5648-43fa-eba8-6544f7f21c86"
      },
      "source": [
        "!ps aux | grep ngrok"
      ],
      "execution_count": 62,
      "outputs": [
        {
          "output_type": "stream",
          "text": [
            "root        3176  0.0  0.0  39196  6604 ?        S    04:10   0:00 bash /drive/ngrok-ssh/run_ngrok.sh ssh\n",
            "root        3177  5.7  0.1 726652 24804 ?        Sl   04:10   0:00 /ngrok start --config /root/.ngrok2/ngrok.yml --config /drive/ngrok-ssh/ssh.yml --log=stdout ssh\n",
            "root        3187  0.0  0.0  39200  6536 ?        S    04:10   0:00 /bin/bash -c ps aux | grep ngrok\n",
            "root        3189  0.0  0.0  38576  5668 ?        S    04:10   0:00 grep ngrok\n"
          ],
          "name": "stdout"
        }
      ]
    },
    {
      "cell_type": "markdown",
      "metadata": {
        "id": "hSou5G_7bfpN"
      },
      "source": [
        "# Make an ngrok API\n",
        "Let's define some helper functions:\n",
        "\n",
        "- `get_ngrok_info()` - returns a JSON object containing info about all open ngrok tunnels\n",
        "\n",
        "- `get_ngrok_tunnels()` - enumerate over all open ngrok tunnels. Yields `name, info` tuples.\n",
        "\n",
        "- `get_ngrok_tunnel(name)` - get info about a tunnel\n",
        "\n",
        "- `get_ngrok_url(name, local=False)` - get a tunnel's URL. If `local` is `False`, returns a public URL that anyone can access, otherwise returns the local url being forwarded"
      ]
    },
    {
      "cell_type": "code",
      "metadata": {
        "id": "2GOhOETZLfjI"
      },
      "source": [
        "import requests\n",
        "import urllib.parse\n",
        "\n",
        "def get_ngrok_info():\n",
        "  return requests.get('http://localhost:4040/api/tunnels').json()\n",
        "\n",
        "def get_ngrok_tunnels():\n",
        "  for tunnel in get_ngrok_info()['tunnels']:\n",
        "    name = tunnel['name']\n",
        "    yield name, tunnel\n",
        "\n",
        "def get_ngrok_tunnel(name):\n",
        "  for name1, tunnel in get_ngrok_tunnels():\n",
        "    if name == name1:\n",
        "      return tunnel\n",
        "\n",
        "def get_ngrok_url(name, local=False):\n",
        "  if local:\n",
        "    return get_ngrok_tunnel(name)['config']['addr']\n",
        "  else:\n",
        "    return get_ngrok_tunnel(name)['public_url']"
      ],
      "execution_count": 63,
      "outputs": []
    },
    {
      "cell_type": "code",
      "metadata": {
        "id": "f6hml0E26YZC",
        "outputId": "fddc0484-398c-41a5-c908-cd008d9eca9b",
        "colab": {
          "base_uri": "https://localhost:8080/"
        }
      },
      "source": [
        "get_ngrok_info()"
      ],
      "execution_count": 64,
      "outputs": [
        {
          "output_type": "execute_result",
          "data": {
            "text/plain": [
              "{'tunnels': [{'config': {'addr': 'localhost:22', 'inspect': False},\n",
              "   'metrics': {'conns': {'count': 0,\n",
              "     'gauge': 0,\n",
              "     'p50': 0,\n",
              "     'p90': 0,\n",
              "     'p95': 0,\n",
              "     'p99': 0,\n",
              "     'rate1': 0,\n",
              "     'rate15': 0,\n",
              "     'rate5': 0},\n",
              "    'http': {'count': 0,\n",
              "     'p50': 0,\n",
              "     'p90': 0,\n",
              "     'p95': 0,\n",
              "     'p99': 0,\n",
              "     'rate1': 0,\n",
              "     'rate15': 0,\n",
              "     'rate5': 0}},\n",
              "   'name': 'ssh',\n",
              "   'proto': 'tcp',\n",
              "   'public_url': 'tcp://8.tcp.ngrok.io:12712',\n",
              "   'uri': '/api/tunnels/ssh'}],\n",
              " 'uri': '/api/tunnels'}"
            ]
          },
          "metadata": {
            "tags": []
          },
          "execution_count": 64
        }
      ]
    },
    {
      "cell_type": "code",
      "metadata": {
        "id": "Ch_3mmOp4YQJ",
        "outputId": "64b67331-85d4-42ad-b4fa-6457508fc3b5",
        "colab": {
          "base_uri": "https://localhost:8080/"
        }
      },
      "source": [
        "%%writefile /drive/ngrok-ssh/run_ngrok-ssh.sh\n",
        "#!/bin/sh\n",
        "set -x\n",
        "/ngrok tcp 3128"
      ],
      "execution_count": 56,
      "outputs": [
        {
          "output_type": "stream",
          "text": [
            "Overwriting /drive/ngrok-ssh/run_ngrok-ssh.sh\n"
          ],
          "name": "stdout"
        }
      ]
    },
    {
      "cell_type": "code",
      "metadata": {
        "id": "R1kNYmPg5UbZ",
        "outputId": "22db37a3-6547-4b8a-f4a8-1d09d90bc2de",
        "colab": {
          "base_uri": "https://localhost:8080/"
        }
      },
      "source": [
        "!sudo killall ngrok\n",
        "!bash /drive/ngrok-ssh/run_ngrok-ssh.sh\n"
      ],
      "execution_count": 57,
      "outputs": [
        {
          "output_type": "stream",
          "text": [
            "ngrok: no process found\n",
            "+ /ngrok tcp 3128\n",
            "\n",
            "\n",
            "\n",
            "\n",
            "\"\n",
            "^C\n",
            "^^C\n"
          ],
          "name": "stdout"
        }
      ]
    },
    {
      "cell_type": "markdown",
      "metadata": {
        "id": "RS0YENvSbCA2"
      },
      "source": [
        "# Skip this section\n",
        "\n",
        "These are various commands for debugging ngrok."
      ]
    },
    {
      "cell_type": "code",
      "metadata": {
        "id": "_Nm37gOgT8Fs",
        "colab": {
          "base_uri": "https://localhost:8080/"
        },
        "outputId": "9c6d2b0c-f05c-4be7-eff7-4f17d2cd565e"
      },
      "source": [
        "!bash /drive/ngrok-ssh/run_ngrok.sh ssh"
      ],
      "execution_count": 45,
      "outputs": [
        {
          "output_type": "stream",
          "text": [
            "+ /ngrok start --config /root/.ngrok2/ngrok.yml --config /drive/ngrok-ssh/ssh.yml --log=stdout ssh\n",
            "\u001b[32mINFO\u001b[0m[07-12|03:59:19] open config file                         \u001b[32mpath\u001b[0m=/root/.ngrok2/ngrok.yml \u001b[32merr\u001b[0m=nil\n",
            "\u001b[32mINFO\u001b[0m[07-12|03:59:19] open config file                         \u001b[32mpath\u001b[0m=/drive/ngrok-ssh/ssh.yml \u001b[32merr\u001b[0m=nil\n",
            "t=2021-07-12T03:59:19+0000 lvl=warn msg=\"can't bind default web address, trying alternatives\" obj=web addr=127.0.0.1:4040\n",
            "t=2021-07-12T03:59:19+0000 lvl=info msg=\"starting web service\" obj=web addr=127.0.0.1:4041\n",
            "t=2021-07-12T03:59:19+0000 lvl=eror msg=\"failed to auth\" obj=tunnels.session err=\"Your account 'hviniciusg@gmail.com' is limited to 1 simultaneous ngrok client session.\\nActive ngrok client sessions in region 'us':\\n  - ts_1vCNrgvwMl60UTpPahEeUR05SFJ (35.225.242.217)\\r\\n\\r\\nERR_NGROK_108\\r\\n\"\n",
            "t=2021-07-12T03:59:19+0000 lvl=eror msg=\"failed to reconnect session\" obj=csess id=ec89746e6fcb err=\"Your account 'hviniciusg@gmail.com' is limited to 1 simultaneous ngrok client session.\\nActive ngrok client sessions in region 'us':\\n  - ts_1vCNrgvwMl60UTpPahEeUR05SFJ (35.225.242.217)\\r\\n\\r\\nERR_NGROK_108\\r\\n\"\n",
            "t=2021-07-12T03:59:19+0000 lvl=eror msg=\"session closing\" obj=tunnels.session err=\"Your account 'hviniciusg@gmail.com' is limited to 1 simultaneous ngrok client session.\\nActive ngrok client sessions in region 'us':\\n  - ts_1vCNrgvwMl60UTpPahEeUR05SFJ (35.225.242.217)\\r\\n\\r\\nERR_NGROK_108\\r\\n\"\n",
            "t=2021-07-12T03:59:19+0000 lvl=info msg=\"received stop request\" obj=app stopReq=\"{err:0xc00044c270 restart:false}\"\n",
            "t=2021-07-12T03:59:19+0000 lvl=eror msg=\"terminating with error\" obj=app err=\"Your account 'hviniciusg@gmail.com' is limited to 1 simultaneous ngrok client session.\\nActive ngrok client sessions in region 'us':\\n  - ts_1vCNrgvwMl60UTpPahEeUR05SFJ (35.225.242.217)\\r\\n\\r\\nERR_NGROK_108\\r\\n\"\n",
            "t=2021-07-12T03:59:19+0000 lvl=crit msg=\"command failed\" err=\"Your account 'hviniciusg@gmail.com' is limited to 1 simultaneous ngrok client session.\\nActive ngrok client sessions in region 'us':\\n  - ts_1vCNrgvwMl60UTpPahEeUR05SFJ (35.225.242.217)\\r\\n\\r\\nERR_NGROK_108\\r\\n\"\n",
            "Your account 'hviniciusg@gmail.com' is limited to 1 simultaneous ngrok client session.\n",
            "Active ngrok client sessions in region 'us':\n",
            "  - ts_1vCNrgvwMl60UTpPahEeUR05SFJ (35.225.242.217)\r\n",
            "\r\n",
            "ERR_NGROK_108\r\n",
            "\n"
          ],
          "name": "stdout"
        }
      ]
    },
    {
      "cell_type": "code",
      "metadata": {
        "id": "Vr6wsoUyKojz",
        "colab": {
          "base_uri": "https://localhost:8080/"
        },
        "outputId": "9c42a4f8-21e9-45f8-906e-49ab232e69e0"
      },
      "source": [
        "!curl -s http://localhost:4040/api/tunnels  | python3 -c \"import sys, json; url=json.load(sys.stdin)['tunnels'][0]['public_url']; import urllib.parse; print(urllib.parse.urlparse(url).netloc)\""
      ],
      "execution_count": 59,
      "outputs": [
        {
          "output_type": "stream",
          "text": [
            "Traceback (most recent call last):\n",
            "  File \"<string>\", line 1, in <module>\n",
            "  File \"/usr/lib/python3.7/json/__init__.py\", line 296, in load\n",
            "    parse_constant=parse_constant, object_pairs_hook=object_pairs_hook, **kw)\n",
            "  File \"/usr/lib/python3.7/json/__init__.py\", line 348, in loads\n",
            "    return _default_decoder.decode(s)\n",
            "  File \"/usr/lib/python3.7/json/decoder.py\", line 337, in decode\n",
            "    obj, end = self.raw_decode(s, idx=_w(s, 0).end())\n",
            "  File \"/usr/lib/python3.7/json/decoder.py\", line 355, in raw_decode\n",
            "    raise JSONDecodeError(\"Expecting value\", s, err.value) from None\n",
            "json.decoder.JSONDecodeError: Expecting value: line 1 column 1 (char 0)\n"
          ],
          "name": "stdout"
        }
      ]
    },
    {
      "cell_type": "markdown",
      "metadata": {
        "id": "-mEHcV72YTbC"
      },
      "source": [
        "#Start Tensorboard"
      ]
    },
    {
      "cell_type": "code",
      "metadata": {
        "id": "NjmwmXijNA55"
      },
      "source": [
        "LOG_DIR = '/drive/gpt-2-train/checkpoint/run1'\n",
        "get_ipython().system_raw(\n",
        "    'tensorboard --logdir {} --host 0.0.0.0 --port 6006 &'\n",
        "    .format(LOG_DIR)\n",
        ")\n"
      ],
      "execution_count": null,
      "outputs": []
    },
    {
      "cell_type": "code",
      "metadata": {
        "id": "ZnWHZoJLNVbs",
        "colab": {
          "base_uri": "https://localhost:8080/",
          "height": 125
        },
        "outputId": "223b8e57-0687-45bb-cde9-0fdfe6ed286c"
      },
      "source": [
        "!ps aux | grep tensorboard"
      ],
      "execution_count": null,
      "outputs": [
        {
          "output_type": "stream",
          "text": [
            "root        1588  0.2  2.2 872976 304868 ?       Sl   10:00   0:06 /usr/bin/python2 /usr/local/bin/tensorboard --logdir /drive/gpt-2-train/checkpoint/run1 --host 0.0.0.0 --port 6006\n",
            "root        2345  0.0  0.0  39192  6660 ?        S    10:32   0:00 bash /drive/ngrok-ssh/run_ngrok.sh ssh tensorboard tcp8080 tpu\n",
            "root        2346  0.2  0.1 122768 19348 ?        Sl   10:32   0:01 /ngrok start --config /root/.ngrok2/ngrok.yml --config /drive/ngrok-ssh/ssh.yml --log=stdout --config /drive/ngrok-ssh/tensorboard.yml --config /drive/ngrok-ssh/http8080.yml --config /drive/ngrok-ssh/tcp8080.yml --config /drive/ngrok-ssh/tpu.yml ssh tensorboard tcp8080 tpu\n",
            "root        2500  0.0  0.0  39192  6624 ?        S    10:39   0:00 /bin/bash -c ps aux | grep tensorboard\n",
            "root        2502  0.0  0.0  38572  5684 ?        S    10:39   0:00 grep tensorboard\n"
          ],
          "name": "stdout"
        }
      ]
    },
    {
      "cell_type": "markdown",
      "metadata": {
        "id": "itCZCppEYd3l"
      },
      "source": [
        "# How to view tensorboard"
      ]
    },
    {
      "cell_type": "code",
      "metadata": {
        "id": "cdVQ9TDrZONX",
        "colab": {
          "base_uri": "https://localhost:8080/"
        },
        "outputId": "96eba24c-9ac0-4a95-dbcd-528d230d771c"
      },
      "source": [
        "print('To view tensorboard, visit', get_ngrok_url('ssh'))"
      ],
      "execution_count": 66,
      "outputs": [
        {
          "output_type": "stream",
          "text": [
            "To view tensorboard, visit tcp://8.tcp.ngrok.io:12712\n"
          ],
          "name": "stdout"
        }
      ]
    },
    {
      "cell_type": "markdown",
      "metadata": {
        "id": "9P8a-UgLZa3_"
      },
      "source": [
        "# Display each ngrok URL\n",
        "\n",
        "For each ngrok tunnel, this cell prints its name, its public URL, and the local URL being forwarded to that public URL."
      ]
    },
    {
      "cell_type": "code",
      "metadata": {
        "id": "d28SLwBxZd4F",
        "colab": {
          "base_uri": "https://localhost:8080/"
        },
        "outputId": "7728cb37-7fe5-4abe-b2e4-a035306033b3"
      },
      "source": [
        "for name, tunnel in get_ngrok_tunnels():\n",
        "  local_url = get_ngrok_url(name, local=True)\n",
        "  public_url = get_ngrok_url(name, local=False)\n",
        "  print('{:12s} {} <-> {}'.format(name, public_url, local_url))"
      ],
      "execution_count": 67,
      "outputs": [
        {
          "output_type": "stream",
          "text": [
            "ssh          tcp://8.tcp.ngrok.io:12712 <-> localhost:22\n"
          ],
          "name": "stdout"
        }
      ]
    },
    {
      "cell_type": "markdown",
      "metadata": {
        "id": "Y8_955M4ZGXX"
      },
      "source": [
        "# How to SSH into this Colab instance"
      ]
    },
    {
      "cell_type": "code",
      "metadata": {
        "id": "BM-qgXeJWUb4",
        "colab": {
          "base_uri": "https://localhost:8080/"
        },
        "outputId": "39b69ef4-2932-4bbf-8bce-d5d97cd84bed"
      },
      "source": [
        "print('')\n",
        "public_url, public_port = urllib.parse.urlparse(get_ngrok_url('ssh')).netloc.split(':')\n",
        "print('To SSH into this colab instance, run the following command on your local machine:')\n",
        "print('')\n",
        "\n",
        "print('  ssh -p {} root@{}'.format(public_port, public_url))"
      ],
      "execution_count": 68,
      "outputs": [
        {
          "output_type": "stream",
          "text": [
            "\n",
            "To SSH into this colab instance, run the following command on your local machine:\n",
            "\n",
            "  ssh -p 12712 root@8.tcp.ngrok.io\n"
          ],
          "name": "stdout"
        }
      ]
    }
  ]
}